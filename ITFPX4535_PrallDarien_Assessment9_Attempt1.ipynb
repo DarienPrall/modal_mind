{
 "cells": [
  {
   "cell_type": "markdown",
   "metadata": {},
   "source": [
    "#**Project Information**\n",
    "Title: Assessment_9: NLP AI Applications\n",
    "Author: Darien Prall\n",
    "Date: 01-04-2024 (mmddyyyy)\n",
    "\n",
    "**Project Description**\n",
    "For this project, I explore the usage of modal verbs in different texts from the Gutenberg Corpus. I will analyze the relative frequency through different Natural Language Processing (NLP) techniques.\n",
    "\n",
    "**Project Steps**\n",
    "Task 1: Modals in the Gutenberg Corpus\n",
    "- Task 1.1: Install NLTK\n",
    "- Task 1.2: Download the Gutenberg Corpus\n",
    "- Task 1.3: Define Each Modal Group\n",
    "- Task 1.4: Count Relative Frequencies of Each Modal Verb\n",
    "- Task 1.5: Find the Texts with the Largest Span of Modal Frequencies\n",
    "- Task 1.6: Compare Usage of Modals in the Two Texts\n",
    "\n",
    "Task 2: Inaugural Corpus - Analyzing Kennedy's 1961 Speech\n",
    "- Task 2.1: Download the Inaugural Corpus\n",
    "- Task 2.2: Load the 1961 Kennedy Speech\n",
    "- Task 2.3: Identify the 10 Most Frequent Used Long Words\n",
    "- Task 2.4: Use WordNet to Find Synonyms and Hyponyms\n",
    "- Task 2.5: Reflect of the Results"
   ]
  },
  {
   "cell_type": "markdown",
   "metadata": {},
   "source": [
    "##**Task 1: Modals in the Gutenberg Corpus**"
   ]
  },
  {
   "cell_type": "markdown",
   "metadata": {},
   "source": [
    "###**Task 1.1: Install NLTK**"
   ]
  },
  {
   "cell_type": "markdown",
   "metadata": {},
   "source": [
    "###**Task 1.2: Download the Gutenberg Corpus**"
   ]
  },
  {
   "cell_type": "markdown",
   "metadata": {},
   "source": [
    "###**Task 1.3: Define Each Modal Group**"
   ]
  },
  {
   "cell_type": "markdown",
   "metadata": {},
   "source": [
    "###**Task 1.4: Count Relative Frequencies of Each Modal Verb**"
   ]
  },
  {
   "cell_type": "markdown",
   "metadata": {},
   "source": [
    "###**Task 1.5: Find the Texts with the Largest Span of Modal Frequencies**"
   ]
  },
  {
   "cell_type": "markdown",
   "metadata": {},
   "source": [
    "###**Compare Usage of Modals in the Two Texts**"
   ]
  },
  {
   "cell_type": "markdown",
   "metadata": {},
   "source": [
    "##**Task 2: Inaugural Corpus - Analyzing Kennedy's 1961 Speech**"
   ]
  },
  {
   "cell_type": "markdown",
   "metadata": {},
   "source": [
    "###**Task 2.1: Download the Inaugural Corpus**"
   ]
  },
  {
   "cell_type": "markdown",
   "metadata": {},
   "source": [
    "###**Task 2.2: Load the 1961 Kennedy Speech**"
   ]
  },
  {
   "cell_type": "markdown",
   "metadata": {},
   "source": [
    "###**Task 2.3: Identify the 10 Most Frequent Used Long Words**"
   ]
  },
  {
   "cell_type": "markdown",
   "metadata": {},
   "source": [
    "###**Task 2.4: Use WordNet to Find Synonyms and Hyponyms**"
   ]
  }
 ],
 "metadata": {
  "language_info": {
   "name": "python"
  }
 },
 "nbformat": 4,
 "nbformat_minor": 2
}
